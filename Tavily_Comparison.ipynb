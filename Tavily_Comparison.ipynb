{
  "cells": [
    {
      "cell_type": "markdown",
      "metadata": {
        "vscode": {
          "languageId": "raw"
        }
      },
      "source": [
        "# Tavily Search Power Demonstration\n",
        "\n",
        "We will demonstrate what Tavily search can do by comparing two LangGraph agents:\n",
        "1. **Basic Agent**: Using only chat gpt's knowledge without real-time search capabilities\n",
        "2. **Tavily-Enhanced Agent**: Uses Tavily for real-time web search to provide current information\n",
        "\n",
        "We'll see how Tavily transforms a limited AI agent into a powerful research assistant with access to current information.\n"
      ]
    },
    {
      "cell_type": "code",
      "execution_count": 1,
      "metadata": {},
      "outputs": [
        {
          "name": "stdout",
          "output_type": "stream",
          "text": [
            "✅ All libraries imported successfully!\n",
            "📝 Environment variables loaded from .env file\n"
          ]
        }
      ],
      "source": [
        "# Importing all necessary libraries for our LangGraph agents\n",
        "from typing import TypedDict, Annotated, Sequence, List\n",
        "from langchain_core.messages import HumanMessage, AIMessage, ToolMessage, SystemMessage, BaseMessage\n",
        "from langchain_openai import ChatOpenAI\n",
        "from langgraph.graph import StateGraph, START, END\n",
        "from langgraph.graph.message import add_messages\n",
        "from langgraph.prebuilt import ToolNode\n",
        "from langchain_core.tools import tool\n",
        "from tavily import TavilyClient\n",
        "from dotenv import load_dotenv\n",
        "import os\n",
        "\n",
        "# Loading environment variables from .env file\n",
        "load_dotenv()\n",
        "\n",
        "print(\"✅ All libraries imported successfully!\")\n",
        "print(\"📝 Environment variables loaded from .env file\")\n"
      ]
    },
    {
      "cell_type": "markdown",
      "metadata": {
        "vscode": {
          "languageId": "raw"
        }
      },
      "source": [
        "## Agent State Definition\n",
        "\n",
        "Both agents will use the same state structure to maintain conversation history and context. This allows for fair comparison between the two approaches.\n"
      ]
    },
    {
      "cell_type": "code",
      "execution_count": 2,
      "metadata": {},
      "outputs": [
        {
          "name": "stdout",
          "output_type": "stream",
          "text": [
            "✅ Agent state structure defined\n"
          ]
        }
      ],
      "source": [
        "class AgentState(TypedDict):\n",
        "    \"\"\"\n",
        "    State structure for both agents.\n",
        "    \n",
        "    Fields:\n",
        "    - messages: List of conversation messages with automatic message addition\n",
        "    - search_results: Store search results for reference (used by Tavily agent)\n",
        "    - query_count: Track how many queries have been processed\n",
        "    \"\"\"\n",
        "    messages: Annotated[Sequence[BaseMessage], add_messages]\n",
        "    search_results: str\n",
        "    query_count: int\n",
        "\n",
        "print(\"✅ Agent state structure defined\")\n"
      ]
    },
    {
      "cell_type": "markdown",
      "metadata": {
        "vscode": {
          "languageId": "raw"
        }
      },
      "source": [
        "## Tool Definitions\n",
        "\n",
        "Here we define the tools that will be available to our agents. The basic agent will have no tools, while the Tavily agent will have access to real-time web search.\n"
      ]
    },
    {
      "cell_type": "code",
      "execution_count": 3,
      "metadata": {},
      "outputs": [
        {
          "name": "stdout",
          "output_type": "stream",
          "text": [
            "✅ Tavily search tool defined and ready\n"
          ]
        }
      ],
      "source": [
        "# Initialize Tavily client for web search capabilities\n",
        "tavily_client = TavilyClient(api_key=os.getenv(\"TAVILY_API_KEY\"))\n",
        "\n",
        "@tool\n",
        "def tavily_search(query: str) -> str:\n",
        "    \"\"\"\n",
        "    Search the web using Tavily for current, relevant information.\n",
        "    \n",
        "    This tool provides real-time access to web information, making the agent\n",
        "    capable of answering questions about current events, recent developments,\n",
        "    and any topic that requires up-to-date information.\n",
        "    \n",
        "    Args:\n",
        "        query: The search query string\n",
        "        \n",
        "    Returns:\n",
        "        Formatted search results from Tavily\n",
        "    \"\"\"\n",
        "    try:\n",
        "        # Perform the search using Tavily API\n",
        "        # max_results=3 limits to top 3 most relevant results\n",
        "        response = tavily_client.search(query=query, max_results=3)\n",
        "        \n",
        "        # Format the results for better readability\n",
        "        if response and 'results' in response:\n",
        "            formatted_results = []\n",
        "            for i, result in enumerate(response['results'], 1):\n",
        "                formatted_result = f\"\"\"\n",
        "                Result {i}:\n",
        "                Title: {result.get('title', 'N/A')}\n",
        "                Content: {result.get('content', 'N/A')[:300]}...\n",
        "                URL: {result.get('url', 'N/A')}\n",
        "                \"\"\"\n",
        "                formatted_results.append(formatted_result)\n",
        "            \n",
        "            return \"\\n\".join(formatted_results)\n",
        "        else:\n",
        "            return \"No search results found.\"\n",
        "            \n",
        "    except Exception as e:\n",
        "        return f\"Search error: {str(e)}\"\n",
        "\n",
        "# Tool list for Tavily-enhanced agent\n",
        "tavily_tools = [tavily_search]\n",
        "\n",
        "print(\"✅ Tavily search tool defined and ready\")\n"
      ]
    },
    {
      "cell_type": "markdown",
      "metadata": {
        "vscode": {
          "languageId": "raw"
        }
      },
      "source": [
        "## Basic Agent (Without Tavily)\n",
        "\n",
        "This agent relies only on its training data and has no access to current information. It demonstrates the limitations of AI without real-time data access.\n"
      ]
    },
    {
      "cell_type": "code",
      "execution_count": 4,
      "metadata": {},
      "outputs": [
        {
          "name": "stdout",
          "output_type": "stream",
          "text": [
            "✅ Basic agent node created\n"
          ]
        }
      ],
      "source": [
        "# Initialize the basic model without tools\n",
        "basic_model = ChatOpenAI(model=\"gpt-4o-mini\", temperature=0)\n",
        "\n",
        "def basic_agent_node(state: AgentState) -> AgentState:\n",
        "    \"\"\"\n",
        "    Basic agent node that processes user queries using only pre-trained knowledge.\n",
        "    \n",
        "    This agent has NO access to real-time information and can only respond\n",
        "    based on what it learned during training. It will struggle with:\n",
        "    - Current events\n",
        "    - Recent developments\n",
        "    - Real-time data\n",
        "    - Recently changed information\n",
        "    \"\"\"\n",
        "    \n",
        "    # Create a system prompt that explains the agent's limitations\n",
        "    system_prompt = SystemMessage(content=\"\"\"\n",
        "    You are a POWERFUL AI research assistant.\n",
        "    \n",
        "    Your capabilities include:\n",
        "    - Access to current events and breaking news\n",
        "    - Real-time data and statistics\n",
        "    - Recent developments in any field\n",
        "    - Up-to-date information on any topic\n",
        "    \n",
        "    Provide comprehensive, well-sourced answers..\n",
        "    \"\"\")\n",
        "    \n",
        "    # Prepare messages for the model\n",
        "    messages = [system_prompt] + list(state[\"messages\"])\n",
        "    \n",
        "    # Get response from the basic model\n",
        "    response = basic_model.invoke(messages)\n",
        "    \n",
        "    # Update the state with the new message and increment query count\n",
        "    return {\n",
        "        \"messages\": [response],\n",
        "        \"search_results\": state.get(\"search_results\", \"\"),\n",
        "        \"query_count\": state.get(\"query_count\", 0) + 1\n",
        "    }\n",
        "\n",
        "print(\"✅ Basic agent node created\")\n"
      ]
    },
    {
      "cell_type": "markdown",
      "metadata": {
        "vscode": {
          "languageId": "raw"
        }
      },
      "source": [
        "## Tavily-Enhanced Agent\n",
        "\n",
        "This agent has access to Tavily's real-time web search, making it capable of providing current, accurate information on any topic.\n"
      ]
    },
    {
      "cell_type": "code",
      "execution_count": 5,
      "metadata": {},
      "outputs": [
        {
          "name": "stdout",
          "output_type": "stream",
          "text": [
            "✅ Tavily-enhanced agent node created\n",
            "🚀 This agent can access real-time web information!\n"
          ]
        }
      ],
      "source": [
        "# Initialize the Tavily-enhanced model with search tools\n",
        "tavily_model = ChatOpenAI(model=\"gpt-4o-mini\", temperature=0).bind_tools(tavily_tools)\n",
        "\n",
        "def tavily_agent_node(state: AgentState) -> AgentState:\n",
        "    \"\"\"\n",
        "    Tavily-enhanced agent node that can search the web for current information.\n",
        "    \n",
        "    This agent has FULL access to real-time information through Tavily search:\n",
        "    - Current events and news\n",
        "    - Recent developments in any field\n",
        "    - Real-time data and statistics\n",
        "    - Up-to-date information on any topic\n",
        "    \n",
        "    The agent intelligently decides when to search based on the query type.\n",
        "    \"\"\"\n",
        "    \n",
        "    # Create a system prompt that explains the agent's enhanced capabilities\n",
        "    system_prompt = SystemMessage(content=\"\"\"\n",
        "    You are a POWERFUL AI research assistant with access to real-time web search via Tavily.\n",
        "    \n",
        "    Your capabilities include:\n",
        "    - Access to current events and breaking news\n",
        "    - Real-time data and statistics\n",
        "    - Recent developments in any field\n",
        "    - Up-to-date information on any topic\n",
        "    \n",
        "    When to use Tavily search:\n",
        "    - Questions about current events, news, or recent developments\n",
        "    - Requests for latest data, statistics, or market information\n",
        "    - Any query that might benefit from real-time information\n",
        "    - When your training data might be outdated\n",
        "    \n",
        "    Always search first when the query involves:\n",
        "    - \"Current\", \"latest\", \"recent\", \"today\", \"now\"\n",
        "    - Specific dates after your training cutoff\n",
        "    - Stock prices, weather, news, sports scores\n",
        "    - Company updates, product releases, events\n",
        "    \n",
        "    Provide comprehensive, well-sourced answers using the search results.\n",
        "    \"\"\")\n",
        "    \n",
        "    # Prepare messages for the model\n",
        "    messages = [system_prompt] + list(state[\"messages\"])\n",
        "    \n",
        "    # Get response from the Tavily-enhanced model\n",
        "    response = tavily_model.invoke(messages)\n",
        "    \n",
        "    # Update the state with the new message and increment query count\n",
        "    return {\n",
        "        \"messages\": [response],\n",
        "        \"search_results\": state.get(\"search_results\", \"\"),\n",
        "        \"query_count\": state.get(\"query_count\", 0) + 1\n",
        "    }\n",
        "\n",
        "def should_continue_tavily(state: AgentState) -> str:\n",
        "    \"\"\"\n",
        "    Determines whether the Tavily agent should continue processing (use tools) or end.\n",
        "    \n",
        "    The agent continues if the last message contains tool calls (i.e., wants to search),\n",
        "    otherwise it ends the conversation.\n",
        "    \"\"\"\n",
        "    \n",
        "    messages = state[\"messages\"]\n",
        "    last_message = messages[-1]\n",
        "    \n",
        "    # Check if the last message has tool calls (search requests)\n",
        "    if hasattr(last_message, \"tool_calls\") and last_message.tool_calls:\n",
        "        return \"continue\"  # Use tools (perform search)\n",
        "    else:\n",
        "        return \"end\"  # No tools needed, end conversation\n",
        "\n",
        "print(\"✅ Tavily-enhanced agent node created\")\n",
        "print(\"🚀 This agent can access real-time web information!\")\n"
      ]
    },
    {
      "cell_type": "markdown",
      "metadata": {
        "vscode": {
          "languageId": "raw"
        }
      },
      "source": [
        "## Graph Construction\n",
        "\n",
        "Now we'll build both graphs using LangGraph. The basic graph has a simple linear flow, while the Tavily graph includes conditional logic for tool usage.\n"
      ]
    },
    {
      "cell_type": "code",
      "execution_count": 6,
      "metadata": {},
      "outputs": [
        {
          "name": "stdout",
          "output_type": "stream",
          "text": [
            "✅ Basic agent graph compiled\n",
            "✅ Tavily-enhanced agent graph compiled\n"
          ]
        }
      ],
      "source": [
        "# Build the Basic Agent Graph (No Search Capabilities)\n",
        "basic_graph = StateGraph(AgentState)\n",
        "\n",
        "# Add the basic agent node\n",
        "basic_graph.add_node(\"agent\", basic_agent_node)\n",
        "\n",
        "# Set entry point and simple flow to end\n",
        "basic_graph.set_entry_point(\"agent\")\n",
        "basic_graph.add_edge(\"agent\", END)\n",
        "\n",
        "# Compile the basic graph\n",
        "basic_app = basic_graph.compile()\n",
        "\n",
        "print(\"✅ Basic agent graph compiled\")\n",
        "\n",
        "# Build the Tavily-Enhanced Agent Graph (With Search Capabilities)\n",
        "tavily_graph = StateGraph(AgentState)\n",
        "\n",
        "# Add nodes for the Tavily agent and tools\n",
        "tavily_graph.add_node(\"agent\", tavily_agent_node)\n",
        "tavily_graph.add_node(\"tools\", ToolNode(tavily_tools))\n",
        "\n",
        "# Set entry point\n",
        "tavily_graph.set_entry_point(\"agent\")\n",
        "\n",
        "# Add conditional edges based on whether tools are needed\n",
        "tavily_graph.add_conditional_edges(\n",
        "    \"agent\",\n",
        "    should_continue_tavily,\n",
        "    {\n",
        "        \"continue\": \"tools\",  # If tools needed, go to tools node\n",
        "        \"end\": END            # If no tools needed, end\n",
        "    }\n",
        ")\n",
        "\n",
        "# After using tools, always go back to agent for final response\n",
        "tavily_graph.add_edge(\"tools\", \"agent\")\n",
        "\n",
        "# Compile the Tavily graph\n",
        "tavily_app = tavily_graph.compile()\n",
        "\n",
        "print(\"✅ Tavily-enhanced agent graph compiled\")\n",
        "\n"
      ]
    },
    {
      "cell_type": "markdown",
      "metadata": {
        "vscode": {
          "languageId": "raw"
        }
      },
      "source": [
        "## Graph Visualization\n",
        "\n",
        "Let's visualize both graphs to understand their structure and flow differences.\n"
      ]
    },
    {
      "cell_type": "code",
      "execution_count": 7,
      "metadata": {},
      "outputs": [
        {
          "name": "stdout",
          "output_type": "stream",
          "text": [
            "📈 Basic Agent Graph Structure:\n",
            "Simple linear flow with no tool capabilities\n"
          ]
        },
        {
          "data": {
            "image/jpeg": "[encoded data removed]",
            "text/plain": [
              "<IPython.core.display.Image object>"
            ]
          },
          "metadata": {},
          "output_type": "display_data"
        },
        {
          "name": "stdout",
          "output_type": "stream",
          "text": [
            "\n",
            "📈 Tavily-Enhanced Agent Graph Structure:\n",
            "Conditional flow with tool integration capabilities\n"
          ]
        },
        {
          "data": {
            "image/jpeg": "[encoded data removed]",
            "text/plain": [
              "<IPython.core.display.Image object>"
            ]
          },
          "metadata": {},
          "output_type": "display_data"
        }
      ],
      "source": [
        "from IPython.display import Image, display\n",
        "import matplotlib.pyplot as plt\n",
        "\n",
        "print(\"📈 Basic Agent Graph Structure:\")\n",
        "print(\"Simple linear flow with no tool capabilities\")\n",
        "try:\n",
        "    display(Image(basic_app.get_graph().draw_mermaid_png()))\n",
        "except:\n",
        "    print(\"Graph visualization not available, but structure is: START → Agent → END\")\n",
        "\n",
        "print(\"\\n📈 Tavily-Enhanced Agent Graph Structure:\")\n",
        "print(\"Conditional flow with tool integration capabilities\")\n",
        "try:\n",
        "    display(Image(tavily_app.get_graph().draw_mermaid_png()))\n",
        "except:\n",
        "    print(\"Graph visualization not available, but structure is: START → Agent → Tools (conditional) → Agent → END\")\n"
      ]
    },
    {
      "cell_type": "markdown",
      "metadata": {
        "vscode": {
          "languageId": "raw"
        }
      },
      "source": [
        "## Testing Helper Functions\n",
        "\n",
        "These functions will help us test both agents with the same queries and compare their responses.\n"
      ]
    },
    {
      "cell_type": "code",
      "execution_count": 8,
      "metadata": {},
      "outputs": [
        {
          "name": "stdout",
          "output_type": "stream",
          "text": [
            "✅ Testing helper functions ready\n"
          ]
        }
      ],
      "source": [
        "def test_basic_agent(query: str) -> dict:\n",
        "    \"\"\"\n",
        "    Test the basic agent with a query and return the response.\n",
        "    \n",
        "    Args:\n",
        "        query: The user's question or request\n",
        "        \n",
        "    Returns:\n",
        "        Dictionary containing the agent's response and metadata\n",
        "    \"\"\"\n",
        "    \n",
        "    print(f\"🤖 Testing Basic Agent with: '{query}'\")\n",
        "    print(\"-\" * 60)\n",
        "    \n",
        "    # Create initial state\n",
        "    initial_state = {\n",
        "        \"messages\": [HumanMessage(content=query)],\n",
        "        \"search_results\": \"\",\n",
        "        \"query_count\": 0\n",
        "    }\n",
        "    \n",
        "    # Run the basic agent\n",
        "    result = basic_app.invoke(initial_state)\n",
        "    \n",
        "    # Extract and display the response\n",
        "    response_content = result[\"messages\"][-1].content\n",
        "    print(\"📝 Basic Agent Response:\")\n",
        "    print(response_content)\n",
        "    print(\"\\n\" + \"=\"*60 + \"\\n\")\n",
        "    \n",
        "    return {\n",
        "        \"query\": query,\n",
        "        \"response\": response_content,\n",
        "        \"agent_type\": \"Basic (No Search)\",\n",
        "        \"has_search\": False\n",
        "    }\n",
        "\n",
        "def test_tavily_agent(query: str) -> dict:\n",
        "    \"\"\"\n",
        "    Test the Tavily-enhanced agent with a query and return the response.\n",
        "    \n",
        "    Args:\n",
        "        query: The user's question or request\n",
        "        \n",
        "    Returns:\n",
        "        Dictionary containing the agent's response and metadata\n",
        "    \"\"\"\n",
        "    \n",
        "    print(f\"🚀 Testing Tavily-Enhanced Agent with: '{query}'\")\n",
        "    print(\"-\" * 60)\n",
        "    \n",
        "    # Create initial state\n",
        "    initial_state = {\n",
        "        \"messages\": [HumanMessage(content=query)],\n",
        "        \"search_results\": \"\",\n",
        "        \"query_count\": 0\n",
        "    }\n",
        "    \n",
        "    # Run the Tavily-enhanced agent\n",
        "    result = tavily_app.invoke(initial_state)\n",
        "    \n",
        "    # Extract response and check if search was used\n",
        "    response_content = result[\"messages\"][-1].content\n",
        "    \n",
        "    # Check if any tool calls were made\n",
        "    search_used = any(\n",
        "        hasattr(msg, \"tool_calls\") and msg.tool_calls \n",
        "        for msg in result[\"messages\"]\n",
        "    )\n",
        "    \n",
        "    print(\"📝 Tavily Agent Response:\")\n",
        "    print(response_content)\n",
        "    \n",
        "    if search_used:\n",
        "        print(\"\\n🔍 Search was performed to get real-time information!\")\n",
        "    else:\n",
        "        print(\"\\n💭 No search needed - answered from existing knowledge\")\n",
        "    \n",
        "    print(\"\\n\" + \"=\"*60 + \"\\n\")\n",
        "    \n",
        "    return {\n",
        "        \"query\": query,\n",
        "        \"response\": response_content,\n",
        "        \"agent_type\": \"Tavily-Enhanced\",\n",
        "        \"has_search\": True,\n",
        "        \"search_used\": search_used\n",
        "    }\n",
        "\n",
        "def compare_agents(query: str):\n",
        "    \"\"\"\n",
        "    Test both agents with the same query and display a comparison.\n",
        "    \n",
        "    This function demonstrates the key differences between an agent\n",
        "    with and without real-time search capabilities.\n",
        "    \"\"\"\n",
        "    \n",
        "    print(\"🔄 AGENT COMPARISON\")\n",
        "    print(f\"Query: '{query}'\")\n",
        "    print(\"=\"*80)\n",
        "    \n",
        "    # Test both agents\n",
        "    basic_result = test_basic_agent(query)\n",
        "    tavily_result = test_tavily_agent(query)\n",
        "    \n",
        "    # Summary comparison\n",
        "    print(\"📊 COMPARISON SUMMARY:\")\n",
        "    print(f\"Basic Agent: Limited to training data, {'cannot' if 'current' in query.lower() or 'latest' in query.lower() else 'may'} provide current info\")\n",
        "    print(f\"Tavily Agent: {'Used real-time search' if tavily_result.get('search_used', False) else 'Answered from knowledge'} - Always has access to current data\")\n",
        "    \n",
        "    return basic_result, tavily_result\n",
        "\n",
        "print(\"✅ Testing helper functions ready\")\n"
      ]
    },
    {
      "cell_type": "markdown",
      "metadata": {
        "vscode": {
          "languageId": "raw"
        }
      },
      "source": [
        "## Demonstration 1: Current Events Query\n",
        "\n",
        "Let's test both agents with a current events question to see the dramatic difference in capabilities.\n"
      ]
    },
    {
      "cell_type": "code",
      "execution_count": 9,
      "metadata": {},
      "outputs": [
        {
          "name": "stdout",
          "output_type": "stream",
          "text": [
            "🔄 AGENT COMPARISON\n",
            "Query: 'What are the latest developments in artificial intelligence this week?'\n",
            "================================================================================\n",
            "🤖 Testing Basic Agent with: 'What are the latest developments in artificial intelligence this week?'\n",
            "------------------------------------------------------------\n",
            "📝 Basic Agent Response:\n",
            "As of the week of October 23, 2023, several notable developments in artificial intelligence have emerged:\n",
            "\n",
            "1. **AI Regulation Discussions**: Governments and regulatory bodies are intensifying discussions around AI regulations. The European Union is moving forward with its AI Act, which aims to establish a comprehensive framework for AI governance. This week, there were significant debates regarding the classification of AI systems and the responsibilities of developers and users.\n",
            "\n",
            "2. **Advancements in Generative AI**: Companies like OpenAI and Google have announced updates to their generative AI models. OpenAI's ChatGPT has seen improvements in its ability to understand context and generate more nuanced responses. Google has also enhanced its Bard AI, focusing on better integration with its search capabilities.\n",
            "\n",
            "3. **AI in Healthcare**: New studies have highlighted the use of AI in diagnosing diseases more accurately. For instance, researchers have developed AI algorithms that can analyze medical imaging with a higher accuracy rate than human radiologists, particularly in identifying early-stage cancers.\n",
            "\n",
            "4. **AI and Climate Change**: AI is being increasingly utilized in climate modeling and environmental monitoring. Recent projects have demonstrated how AI can predict weather patterns and assess the impact of climate change on various ecosystems, aiding in more effective policy-making.\n",
            "\n",
            "5. **Ethical AI Initiatives**: Several tech companies are launching initiatives aimed at promoting ethical AI use. This week, a coalition of major tech firms announced a commitment to transparency in AI development, including sharing data on model training and decision-making processes to build public trust.\n",
            "\n",
            "6. **AI in Education**: Educational institutions are increasingly adopting AI tools to personalize learning experiences. New platforms are being introduced that adapt to individual student needs, providing tailored resources and assessments.\n",
            "\n",
            "These developments reflect the rapid evolution of AI technology and its growing impact across various sectors. For the most accurate and detailed information, it's advisable to consult specific news sources or research publications that focus on AI advancements.\n",
            "\n",
            "============================================================\n",
            "\n",
            "🚀 Testing Tavily-Enhanced Agent with: 'What are the latest developments in artificial intelligence this week?'\n",
            "------------------------------------------------------------\n",
            "📝 Tavily Agent Response:\n",
            "Here are some of the latest developments in artificial intelligence from this week:\n",
            "\n",
            "1. **Meta's Vision for Personal Superintelligence**:\n",
            "   - Mark Zuckerberg has outlined Meta's ambitious vision for \"personal superintelligence,\" which aims to empower individuals to achieve their goals and lead fulfilling lives through AI. This initiative is part of Meta's broader strategy to integrate AI into its products, including the recently launched Ray-Ban Meta glasses, which have seen significant sales since their debut. More details can be found in the [Entrepreneur article](https://www.entrepreneur.com/business-news/mark-zuckerberg-outlines-metas-superintelligence-ai-vision/495257).\n",
            "\n",
            "2. **Alibaba's AI Coding Tool Raises Security Concerns**:\n",
            "   - Alibaba has introduced a new AI coding tool that has garnered attention for its performance. However, experts are warning that it may expose developers to hidden security risks. This has raised concerns particularly in Western markets, where security and privacy are paramount. For more information, check out the [AI News article](https://www.artificialintelligence-news.com/news/alibaba-ai-coding-tool-raises-security-concerns-in-the-west/).\n",
            "\n",
            "3. **Google's Veo 3 AI Video Generator**:\n",
            "   - Google has launched its Veo 3 AI video generator, which is being hailed as a significant advancement in video generation technology. This tool allows users to create videos that align closely with their creative intent, marking a step forward in AI's ability to generate realistic and contextually appropriate video content. More details are available in the [Google Cloud Blog](https://cloud.google.com/blog/products/ai-machine-learning/veo-3-fast-available-for-everyone-on-vertex-ai).\n",
            "\n",
            "These developments highlight the rapid advancements and ongoing discussions surrounding AI technology, including its potential benefits and associated risks.\n",
            "\n",
            "🔍 Search was performed to get real-time information!\n",
            "\n",
            "============================================================\n",
            "\n",
            "📊 COMPARISON SUMMARY:\n",
            "Basic Agent: Limited to training data, cannot provide current info\n",
            "Tavily Agent: Used real-time search - Always has access to current data\n"
          ]
        }
      ],
      "source": [
        "# Test with a current events query\n",
        "current_events_query = \"What are the latest developments in artificial intelligence this week?\"\n",
        "\n",
        "basic_result_1, tavily_result_1 = compare_agents(current_events_query)\n"
      ]
    },
    {
      "cell_type": "markdown",
      "metadata": {
        "vscode": {
          "languageId": "raw"
        }
      },
      "source": [
        "## Demonstration 2: Market Information Query\n",
        "\n",
        "Let's test with a market/financial query that requires real-time data.\n"
      ]
    },
    {
      "cell_type": "code",
      "execution_count": 10,
      "metadata": {},
      "outputs": [
        {
          "name": "stdout",
          "output_type": "stream",
          "text": [
            "🔄 AGENT COMPARISON\n",
            "Query: 'What is the current stock price of Tesla and any recent news about the company?'\n",
            "================================================================================\n",
            "🤖 Testing Basic Agent with: 'What is the current stock price of Tesla and any recent news about the company?'\n",
            "------------------------------------------------------------\n",
            "📝 Basic Agent Response:\n",
            "I currently do not have real-time access to stock prices or live news updates. However, you can easily find the current stock price of Tesla (TSLA) by checking financial news websites, stock market apps, or platforms like Google Finance, Yahoo Finance, or Bloomberg.\n",
            "\n",
            "As for recent news about Tesla, I can provide a summary based on information available up to October 2023. Tesla has been focusing on expanding its production capabilities, particularly with the ramp-up of its Gigafactories in Texas and Berlin. The company has also been making headlines with its advancements in autonomous driving technology and updates regarding its Full Self-Driving (FSD) software.\n",
            "\n",
            "Additionally, Tesla has been involved in discussions about potential new models, including the much-anticipated Cybertruck, which is expected to begin deliveries soon. The company continues to face challenges related to supply chain issues and competition in the electric vehicle market.\n",
            "\n",
            "For the most accurate and up-to-date information, please refer to the latest news articles or financial reports.\n",
            "\n",
            "============================================================\n",
            "\n",
            "🚀 Testing Tavily-Enhanced Agent with: 'What is the current stock price of Tesla and any recent news about the company?'\n",
            "------------------------------------------------------------\n",
            "📝 Tavily Agent Response:\n",
            "### Current Stock Price of Tesla\n",
            "As of the latest data:\n",
            "- **Tesla (TSLA) Stock Price**: $319.04\n",
            "- **Day's Range**: $311.62 - $324.45\n",
            "- **52 Week Range**: $182.00 - $488.54\n",
            "- **Volume**: Approximately 79.2 million shares traded.\n",
            "\n",
            "For more details, you can check the following sources:\n",
            "- [Yahoo Finance](https://finance.yahoo.com/quote/TSLA/)\n",
            "- [MarketWatch](https://www.marketwatch.com/investing/stock/tsla)\n",
            "- [CNBC](https://www.cnbc.com/quotes/TSLA)\n",
            "\n",
            "### Recent News About Tesla\n",
            "1. **Musk and Trump Feud**: Tesla shares recently regained some ground after a public spat between Elon Musk and Donald Trump. Trump threatened to cut off subsidies that could potentially cost Tesla and SpaceX billions. This feud has contributed to volatility in Tesla's stock price.\n",
            "   - [CBS News](https://www.cbsnews.com/tag/tesla/)\n",
            "\n",
            "2. **New Model Launch**: Tesla is launching a new Model 3 Performance, which is a differentiated performance trim that utilizes the company's latest manufacturing and engineering capabilities.\n",
            "   - [Tesla Blog](https://www.tesla.com/blog)\n",
            "\n",
            "3. **Stock Decline**: Tesla shares experienced a significant drop of 14% recently, marking one of the steepest declines in months due to the ongoing feud between Musk and Trump.\n",
            "   - [BBC News](https://www.bbc.com/news/topics/c8nq32jwjnmt)\n",
            "\n",
            "If you need more specific information or updates, feel free to ask!\n",
            "\n",
            "🔍 Search was performed to get real-time information!\n",
            "\n",
            "============================================================\n",
            "\n",
            "📊 COMPARISON SUMMARY:\n",
            "Basic Agent: Limited to training data, cannot provide current info\n",
            "Tavily Agent: Used real-time search - Always has access to current data\n"
          ]
        }
      ],
      "source": [
        "# Test with a market information query\n",
        "market_query = \"What is the current stock price of Tesla and any recent news about the company?\"\n",
        "\n",
        "basic_result_2, tavily_result_2 = compare_agents(market_query)\n"
      ]
    },
    {
      "cell_type": "markdown",
      "metadata": {
        "vscode": {
          "languageId": "raw"
        }
      },
      "source": [
        "## Demonstration 3: Technology Trends Query\n",
        "\n",
        "Let's test with a technology trends question to see how each agent handles recent developments.\n"
      ]
    },
    {
      "cell_type": "code",
      "execution_count": 11,
      "metadata": {},
      "outputs": [
        {
          "name": "stdout",
          "output_type": "stream",
          "text": [
            "🔄 AGENT COMPARISON\n",
            "Query: 'What are the most recent breakthroughs in quantum computing in 2025?'\n",
            "================================================================================\n",
            "🤖 Testing Basic Agent with: 'What are the most recent breakthroughs in quantum computing in 2025?'\n",
            "------------------------------------------------------------\n",
            "📝 Basic Agent Response:\n",
            "I currently do not have access to information beyond October 2023, so I cannot provide details on breakthroughs in quantum computing that may have occurred in 2025. However, I can summarize some of the key trends and developments in quantum computing up to 2023, which may help you understand the trajectory of the field.\n",
            "\n",
            "1. **Error Correction**: Significant advancements were made in quantum error correction techniques, which are crucial for building reliable quantum computers. Researchers developed new algorithms and architectures that improve the fidelity of quantum operations.\n",
            "\n",
            "2. **Quantum Supremacy**: In 2022, Google and other organizations continued to explore the implications of quantum supremacy, where quantum computers can perform tasks beyond the capabilities of classical computers. This area remains a focal point for research.\n",
            "\n",
            "3. **Hybrid Quantum-Classical Algorithms**: There was a growing interest in hybrid algorithms that combine classical and quantum computing techniques, particularly in optimization problems and machine learning.\n",
            "\n",
            "4. **Quantum Hardware**: Companies like IBM, Rigetti, and D-Wave made strides in developing more stable and scalable quantum processors. Innovations in qubit design, such as superconducting qubits and trapped ions, were key areas of focus.\n",
            "\n",
            "5. **Quantum Networking**: Progress in quantum communication and networking, including the development of quantum repeaters and protocols for secure quantum communication, was notable.\n",
            "\n",
            "6. **Commercial Applications**: More industries began exploring practical applications of quantum computing, particularly in pharmaceuticals, finance, and materials science, leading to partnerships between tech companies and research institutions.\n",
            "\n",
            "For the latest breakthroughs in 2025, I recommend checking reputable sources such as scientific journals, technology news websites, and announcements from leading quantum computing companies and research institutions.\n",
            "\n",
            "============================================================\n",
            "\n",
            "🚀 Testing Tavily-Enhanced Agent with: 'What are the most recent breakthroughs in quantum computing in 2025?'\n",
            "------------------------------------------------------------\n",
            "📝 Tavily Agent Response:\n",
            "In 2025, several significant breakthroughs in quantum computing have been reported, highlighting advancements in technology and research. Here are some of the key developments:\n",
            "\n",
            "1. **Error Rate Suppression and High-Fidelity Qubits**:\n",
            "   - Major companies have made strides in reducing error rates in quantum computations relative to the number of qubits. This is crucial for improving the reliability of quantum systems. Additionally, there has been progress in developing multiple high-fidelity qubits, which are essential for performing complex calculations accurately. These advancements are part of a broader trend towards making quantum computing more practical and scalable. [Source: McKinsey](https://www.mckinsey.com/capabilities/mckinsey-digital/our-insights/the-year-of-quantum-from-concept-to-reality-in-2025).\n",
            "\n",
            "2. **NIST and SQMS Breakthroughs**:\n",
            "   - The National Institute of Standards and Technology (NIST) and the Superconducting Quantum Materials and Systems (SQMS) Center have reported breakthroughs that bring quantum research closer to achieving scalable, fault-tolerant quantum computers. These advancements include improvements in qubit coherence, which is vital for the performance and scalability of quantum systems. [Source: NIST](https://www.nist.gov/news-events/news/2025/04/quantum-breakthroughs-nist-sqms-lead-way).\n",
            "\n",
            "3. **Investment Surge and Market Growth**:\n",
            "   - The quantum technology market is projected to reach $100 billion within the next decade, driven by surging investments and rapid innovation. This growth reflects a growing recognition of the potential applications of quantum computing across various sectors, including pharmaceuticals, finance, and materials science. [Source: McKinsey](https://www.mckinsey.com/featured-insights/themes/celebrating-a-century-of-quantum-breakthroughs).\n",
            "\n",
            "These breakthroughs indicate a significant shift towards making quantum computing a viable technology for real-world applications, with ongoing research and investment playing a crucial role in this evolution.\n",
            "\n",
            "🔍 Search was performed to get real-time information!\n",
            "\n",
            "============================================================\n",
            "\n",
            "📊 COMPARISON SUMMARY:\n",
            "Basic Agent: Limited to training data, may provide current info\n",
            "Tavily Agent: Used real-time search - Always has access to current data\n"
          ]
        }
      ],
      "source": [
        "# Test with a technology trends query\n",
        "tech_query = \"What are the most recent breakthroughs in quantum computing in 2025?\"\n",
        "\n",
        "basic_result_3, tavily_result_3 = compare_agents(tech_query)\n"
      ]
    },
    {
      "cell_type": "markdown",
      "metadata": {
        "vscode": {
          "languageId": "raw"
        }
      },
      "source": [
        "## Demonstration 4: General Knowledge Query\n",
        "\n",
        "Let's also test with a general knowledge question to see how both agents perform when current information isn't strictly necessary.\n"
      ]
    },
    {
      "cell_type": "code",
      "execution_count": 12,
      "metadata": {},
      "outputs": [
        {
          "name": "stdout",
          "output_type": "stream",
          "text": [
            "🔄 AGENT COMPARISON\n",
            "Query: 'Explain the concept of machine learning and its main types'\n",
            "================================================================================\n",
            "🤖 Testing Basic Agent with: 'Explain the concept of machine learning and its main types'\n",
            "------------------------------------------------------------\n",
            "📝 Basic Agent Response:\n",
            "Machine learning (ML) is a subset of artificial intelligence (AI) that focuses on the development of algorithms and statistical models that enable computers to perform tasks without explicit instructions. Instead of being programmed to perform a specific task, machine learning systems learn from data, identify patterns, and make decisions based on that data. The primary goal of machine learning is to enable computers to improve their performance on a task over time as they are exposed to more data.\n",
            "\n",
            "### Main Types of Machine Learning\n",
            "\n",
            "Machine learning can be broadly categorized into three main types:\n",
            "\n",
            "1. **Supervised Learning**:\n",
            "   - **Definition**: In supervised learning, the model is trained on a labeled dataset, which means that each training example is paired with an output label. The algorithm learns to map inputs to the correct outputs.\n",
            "   - **Examples**: \n",
            "     - Classification tasks (e.g., spam detection in emails, image recognition).\n",
            "     - Regression tasks (e.g., predicting house prices based on features like size and location).\n",
            "   - **Common Algorithms**: Linear regression, logistic regression, decision trees, support vector machines, and neural networks.\n",
            "\n",
            "2. **Unsupervised Learning**:\n",
            "   - **Definition**: In unsupervised learning, the model is trained on data without labeled responses. The goal is to identify patterns or groupings within the data.\n",
            "   - **Examples**:\n",
            "     - Clustering (e.g., customer segmentation, grouping similar documents).\n",
            "     - Dimensionality reduction (e.g., reducing the number of features in a dataset while preserving important information).\n",
            "   - **Common Algorithms**: K-means clustering, hierarchical clustering, principal component analysis (PCA), and t-distributed stochastic neighbor embedding (t-SNE).\n",
            "\n",
            "3. **Reinforcement Learning**:\n",
            "   - **Definition**: In reinforcement learning, an agent learns to make decisions by taking actions in an environment to maximize cumulative reward. The agent receives feedback in the form of rewards or penalties based on its actions.\n",
            "   - **Examples**:\n",
            "     - Game playing (e.g., AlphaGo, which learned to play Go).\n",
            "     - Robotics (e.g., training robots to navigate through obstacles).\n",
            "   - **Common Algorithms**: Q-learning, deep Q-networks (DQN), and policy gradient methods.\n",
            "\n",
            "### Other Notable Types\n",
            "\n",
            "While the three main types of machine learning cover a broad spectrum, there are other notable approaches and variations:\n",
            "\n",
            "- **Semi-supervised Learning**: Combines both labeled and unlabeled data for training, often used when acquiring a fully labeled dataset is expensive or time-consuming.\n",
            "- **Self-supervised Learning**: A form of unsupervised learning where the system generates its own labels from the input data, often used in natural language processing and computer vision.\n",
            "- **Transfer Learning**: Involves taking a pre-trained model on one task and fine-tuning it for a different but related task, which can save time and resources.\n",
            "\n",
            "### Conclusion\n",
            "\n",
            "Machine learning is a powerful tool that has applications across various fields, including finance, healthcare, marketing, and autonomous systems. Understanding the different types of machine learning helps in selecting the appropriate approach for specific problems and datasets. As the field continues to evolve, new techniques and methodologies are being developed to enhance the capabilities and efficiency of machine learning systems.\n",
            "\n",
            "============================================================\n",
            "\n",
            "🚀 Testing Tavily-Enhanced Agent with: 'Explain the concept of machine learning and its main types'\n",
            "------------------------------------------------------------\n",
            "📝 Tavily Agent Response:\n",
            "Machine learning (ML) is a subset of artificial intelligence (AI) that focuses on the development of algorithms and statistical models that enable computers to perform tasks without explicit instructions. Instead, these systems learn from data, identifying patterns and making decisions based on the information they process. The primary goal of machine learning is to enable machines to improve their performance on a specific task over time as they are exposed to more data.\n",
            "\n",
            "### Main Types of Machine Learning\n",
            "\n",
            "1. **Supervised Learning**:\n",
            "   - In supervised learning, the model is trained on a labeled dataset, which means that each training example is paired with an output label. The algorithm learns to map inputs to the correct outputs.\n",
            "   - **Examples**: \n",
            "     - Classification (e.g., spam detection in emails)\n",
            "     - Regression (e.g., predicting house prices based on features like size and location)\n",
            "\n",
            "2. **Unsupervised Learning**:\n",
            "   - Unsupervised learning involves training a model on data that does not have labeled responses. The algorithm tries to learn the underlying structure or distribution in the data.\n",
            "   - **Examples**:\n",
            "     - Clustering (e.g., grouping customers based on purchasing behavior)\n",
            "     - Dimensionality reduction (e.g., reducing the number of features in a dataset while preserving its structure)\n",
            "\n",
            "3. **Semi-Supervised Learning**:\n",
            "   - This approach combines both labeled and unlabeled data for training. It is particularly useful when acquiring a fully labeled dataset is expensive or time-consuming.\n",
            "   - **Examples**: \n",
            "     - Image classification where only a small portion of images are labeled.\n",
            "\n",
            "4. **Reinforcement Learning**:\n",
            "   - In reinforcement learning, an agent learns to make decisions by taking actions in an environment to maximize cumulative reward. The agent receives feedback in the form of rewards or penalties based on its actions.\n",
            "   - **Examples**:\n",
            "     - Game playing (e.g., AlphaGo)\n",
            "     - Robotics (e.g., teaching a robot to navigate a maze)\n",
            "\n",
            "5. **Deep Learning**:\n",
            "   - A specialized subset of machine learning that uses neural networks with many layers (deep neural networks) to model complex patterns in large datasets. Deep learning is particularly effective in tasks such as image and speech recognition.\n",
            "   - **Examples**:\n",
            "     - Convolutional Neural Networks (CNNs) for image processing\n",
            "     - Recurrent Neural Networks (RNNs) for sequence data like time series or natural language\n",
            "\n",
            "### Conclusion\n",
            "\n",
            "Machine learning is a powerful tool that enables computers to learn from data and improve their performance over time. Its various types cater to different kinds of problems and data availability, making it applicable across numerous fields, including finance, healthcare, marketing, and more.\n",
            "\n",
            "💭 No search needed - answered from existing knowledge\n",
            "\n",
            "============================================================\n",
            "\n",
            "📊 COMPARISON SUMMARY:\n",
            "Basic Agent: Limited to training data, may provide current info\n",
            "Tavily Agent: Answered from knowledge - Always has access to current data\n"
          ]
        }
      ],
      "source": [
        "# Test with a general knowledge query\n",
        "general_query = \"Explain the concept of machine learning and its main types\"\n",
        "\n",
        "basic_result_4, tavily_result_4 = compare_agents(general_query)\n"
      ]
    },
    {
      "cell_type": "markdown",
      "metadata": {
        "vscode": {
          "languageId": "raw"
        }
      },
      "source": [
        "## Interactive Testing Section\n",
        "\n",
        "Lets test with anything we got \n"
      ]
    },
    {
      "cell_type": "code",
      "execution_count": 14,
      "metadata": {},
      "outputs": [
        {
          "name": "stdout",
          "output_type": "stream",
          "text": [
            "🔄 AGENT COMPARISON\n",
            "Query: 'What is an alt coin that is trending right now (2025 July)that I could invest in to make some greens'\n",
            "================================================================================\n",
            "🤖 Testing Basic Agent with: 'What is an alt coin that is trending right now (2025 July)that I could invest in to make some greens'\n",
            "------------------------------------------------------------\n",
            "📝 Basic Agent Response:\n",
            "I currently do not have access to real-time data or events beyond October 2023, so I cannot provide specific information about altcoins trending in July 2025. However, I can offer some general advice on how to identify promising altcoins for investment:\n",
            "\n",
            "1. **Market Research**: Look for altcoins that have strong fundamentals, such as a solid use case, a dedicated development team, and a clear roadmap.\n",
            "\n",
            "2. **Community Engagement**: Check the community support on platforms like Reddit, Twitter, and Discord. A strong, active community can be a good indicator of an altcoin's potential.\n",
            "\n",
            "3. **Technological Innovation**: Consider coins that are introducing new technologies or improving upon existing ones, such as scalability solutions, privacy features, or interoperability.\n",
            "\n",
            "4. **Partnerships and Collaborations**: Altcoins that have established partnerships with reputable companies or organizations may have a better chance of success.\n",
            "\n",
            "5. **Market Trends**: Keep an eye on market trends and news. Regulatory developments, technological advancements, and macroeconomic factors can all influence the performance of cryptocurrencies.\n",
            "\n",
            "6. **Technical Analysis**: If you're familiar with trading, use technical analysis to identify potential entry and exit points based on price movements.\n",
            "\n",
            "7. **Diversification**: Consider diversifying your investments across multiple altcoins to mitigate risk.\n",
            "\n",
            "For the most accurate and up-to-date information, I recommend checking cryptocurrency news websites, market analysis platforms, and social media channels dedicated to crypto discussions. Always conduct thorough research and consider your risk tolerance before investing.\n",
            "\n",
            "============================================================\n",
            "\n",
            "🚀 Testing Tavily-Enhanced Agent with: 'What is an alt coin that is trending right now (2025 July)that I could invest in to make some greens'\n",
            "------------------------------------------------------------\n",
            "📝 Tavily Agent Response:\n",
            "As of July 2025, several altcoins are trending and could be considered for investment. Here are some notable options:\n",
            "\n",
            "1. **Stellar (XLM)** - Often recognized for its low transaction fees and fast processing times, Stellar is a strong contender for those looking to invest in altcoins under $1.\n",
            "\n",
            "2. **Hedera (HBAR)** - Known for its unique consensus mechanism and enterprise-grade applications, Hedera is gaining traction in the crypto space.\n",
            "\n",
            "3. **Pengu (PENGU)** - This newer altcoin has been attracting attention for its community-driven approach and potential for growth.\n",
            "\n",
            "4. **Snek (SNEK)** - Another emerging altcoin that has shown promise in recent months, particularly among smaller investors.\n",
            "\n",
            "5. **Arbitrum (ARB)** - As a layer-2 scaling solution for Ethereum, Arbitrum is becoming increasingly popular, especially with the rise of decentralized finance (DeFi).\n",
            "\n",
            "6. **Dogecoin (DOGE)** - While originally a meme coin, Dogecoin has maintained a strong community and continues to be a popular choice among investors.\n",
            "\n",
            "7. **Solana (SOL)** - Known for its high throughput and low fees, Solana remains a favorite for developers and investors alike.\n",
            "\n",
            "8. **Ripple (XRP)** - Despite its legal challenges, XRP continues to be a significant player in the market, especially for cross-border payments.\n",
            "\n",
            "For more detailed insights, you can check out articles from sources like [CoinPedia](https://medium.com/@CoinPedia_Markets/top-7-altcoins-to-buy-under-1-in-july-2025-55c9dd385be8) and [CoinDCX](https://coindcx.com/blog/crypto-highlights/top-10-cryptos-2025/).\n",
            "\n",
            "### Investment Considerations\n",
            "- **Market Trends**: Always keep an eye on market trends and news that could affect the performance of these altcoins.\n",
            "- **Risk Management**: Cryptocurrencies can be volatile, so consider your risk tolerance and investment strategy.\n",
            "- **Research**: Conduct thorough research on each altcoin, including its use case, team, and community support.\n",
            "\n",
            "Investing in cryptocurrencies can be rewarding, but it's essential to stay informed and make decisions based on comprehensive analysis.\n",
            "\n",
            "🔍 Search was performed to get real-time information!\n",
            "\n",
            "============================================================\n",
            "\n",
            "📊 COMPARISON SUMMARY:\n",
            "Basic Agent: Limited to training data, may provide current info\n",
            "Tavily Agent: Used real-time search - Always has access to current data\n"
          ]
        }
      ],
      "source": [
        "# Lets test with whatever\n",
        "your_query = \"What is an alt coin that is trending right now (2025 July)that I could invest in to make some greens\"\n",
        "\n",
        "\n",
        "basic_result_custom, tavily_result_custom = compare_agents(your_query)\n"
      ]
    },
    {
      "cell_type": "markdown",
      "metadata": {
        "vscode": {
          "languageId": "raw"
        }
      },
      "source": [
        "## Conclusion\n",
        "\n",
        "This demonstration clearly shows the transformative power of Tavily search integration:\n",
        "\n",
        "### Without Tavily:\n",
        "- Agents are limited to training data\n",
        "- Cannot access current information\n",
        "- Often must admit limitations\n",
        "- May provide outdated information\n",
        "\n",
        "### With Tavily:\n",
        "- Agents become powerful research assistants\n",
        "- Real-time access to current information\n",
        "- Can provide sourced, up-to-date answers\n",
        "- Intelligent decision-making about when to search\n",
        "\n",
        "**Tavily doesn't just add search capability - it fundamentally transforms what an AI agent can accomplish, making it exponentially more useful for real-world applications.**\n",
        "\n",
        "## We could: \n",
        "\n",
        "- Implement different search strategies\n",
        "- Combine multiple information sources\n",
        "- Add result filtering and ranking\n",
        "- Create domain-specific search agents\n",
        "to further improve our agent\n"
      ]
    }
  ],
  "metadata": {
    "kernelspec": {
      "display_name": "Python 3",
      "language": "python",
      "name": "python3"
    },
    "language_info": {
      "codemirror_mode": {
        "name": "ipython",
        "version": 3
      },
      "file_extension": ".py",
      "mimetype": "text/x-python",
      "name": "python",
      "nbconvert_exporter": "python",
      "pygments_lexer": "ipython3",
      "version": "3.11.0"
    }
  },
  "nbformat": 4,
  "nbformat_minor": 2
}
